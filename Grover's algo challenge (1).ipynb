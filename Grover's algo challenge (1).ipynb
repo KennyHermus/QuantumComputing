{
 "cells": [
  {
   "cell_type": "code",
   "execution_count": 2,
   "id": "a526fd0a-5dbc-406a-9b84-198cc6183e7a",
   "metadata": {
    "id": "a526fd0a-5dbc-406a-9b84-198cc6183e7a"
   },
   "outputs": [],
   "source": [
    "import numpy as np\n",
    "\n",
    "# Importing standard Qiskit libraries\n",
    "from qiskit import QuantumCircuit, transpile, Aer, IBMQ\n",
    "from qiskit.tools.jupyter import *\n",
    "from qiskit.visualization import *\n",
    "from ibm_quantum_widgets import *\n",
    "from qiskit.providers.aer import QasmSimulator\n",
    "from qiskit.algorithms import AmplificationProblem\n",
    "from qiskit.utils import QuantumInstance\n",
    "from qiskit.algorithms import Grover\n",
    "import math\n",
    "from qiskit.quantum_info import Statevector\n",
    "import matplotlib.pyplot as plt\n",
    "# Loading your IBM Quantum account(s)\n",
    "provider = IBMQ.load_account()"
   ]
  },
  {
   "cell_type": "code",
   "execution_count": 3,
   "id": "5a8dd6fb-9aa1-41d4-9b3d-2fc35394a01f",
   "metadata": {
    "id": "5a8dd6fb-9aa1-41d4-9b3d-2fc35394a01f"
   },
   "outputs": [],
   "source": [
    "# Please run this cell before trying out Grover's algorithm.\n",
    "\n",
    "# This cell contains helper functions for Grover's algorithm. These functions use Qiskit's libraries to implement Grover's algorithm.\n",
    "# Don't worry about these functions on first pass, but make sure you run this cell!!\n",
    "\n",
    "def create_grover_problem(n_choices,correct):\n",
    "    n = int(math.log(n_choices,2))\n",
    "    ls = []\n",
    "    for i in range(2**n, 2**(n+1)):\n",
    "        ls.append(str((bin(i)[3:])))\n",
    "    good_state = ls[correct]\n",
    "    oracle = Statevector.from_label(good_state)\n",
    "    problem = AmplificationProblem(oracle, is_good_state=[good_state])\n",
    "    return problem\n",
    "\n",
    "def solve_grover_problem(problem):\n",
    "    backend = Aer.get_backend('qasm_simulator')\n",
    "    grover = Grover(quantum_instance=backend)\n",
    "    result = grover.amplify(problem)\n",
    "    return result"
   ]
  },
  {
   "cell_type": "markdown",
   "id": "701f69f5-c65b-4d9e-b90b-a0dabde82b04",
   "metadata": {
    "id": "701f69f5-c65b-4d9e-b90b-a0dabde82b04",
    "tags": []
   },
   "source": [
    "# Linear search\n",
    "\n",
    "Linear search is a classical algorithm for searching through an unstructured (unsorted) dataset. As described in the lecture, in linear search, we look at each element in the dataset one-by-one until we find the element we are looking for. In the challenges below, you will implement a linear search algorithm and analyze its complexity."
   ]
  },
  {
   "cell_type": "code",
   "execution_count": 6,
   "id": "eab796af-bd3b-40c8-9623-9ac1b0083f26",
   "metadata": {
    "id": "eab796af-bd3b-40c8-9623-9ac1b0083f26"
   },
   "outputs": [
    {
     "name": "stdout",
     "output_type": "stream",
     "text": [
      "13\n"
     ]
    }
   ],
   "source": [
    "# Challenge 1 - Implement a linear search algorithm to find \"Choice 13\" in the list of choices given below. Print the position (index) in the list at which \"Choice 13\" was found.\n",
    "# Use a loop to step through list_numbers, and compare each element with what you are searching for\n",
    "# If the element does not match, move to the next element\n",
    "# If it matches, the search is over\n",
    "list_choices = [\"Choice 0\", \"Choice 1\", \"Choice 2\",\"Choice 3\",\"Choice 4\",\"Choice 5\",\"Choice 6\",\"Choice 7\",\"Choice 8\",\"Choice 9\",\"Choice 10\",\"Choice 11\",\"Choice 12\",\"Choice 13\",\"Choice 14\",\"Choice 15\"]\n",
    "searches = None\n",
    "for ind in range(len(list_choices)):\n",
    "    if list_choices[ind] == \"Choice 13\":\n",
    "        print(ind)\n",
    "        searches = ind + 1\n",
    "        break"
   ]
  },
  {
   "cell_type": "markdown",
   "id": "9c5db392-3b04-47c5-8c36-b83f93e01197",
   "metadata": {
    "id": "9c5db392-3b04-47c5-8c36-b83f93e01197"
   },
   "source": [
    "# Number of queries"
   ]
  },
  {
   "cell_type": "code",
   "execution_count": 7,
   "id": "92ae88bc-f629-4805-9e76-bc8a4c0233fe",
   "metadata": {
    "id": "92ae88bc-f629-4805-9e76-bc8a4c0233fe"
   },
   "outputs": [
    {
     "name": "stdout",
     "output_type": "stream",
     "text": [
      "14\n"
     ]
    }
   ],
   "source": [
    "# Challenge 2 - Use your implementation of linear search to find out how many queries (search or comparison operations) it took to find the Choice 13 in this list.\n",
    "print(searches)"
   ]
  },
  {
   "cell_type": "markdown",
   "id": "da0783b4-d952-490f-8646-e913334e5fe7",
   "metadata": {
    "id": "da0783b4-d952-490f-8646-e913334e5fe7"
   },
   "source": [
    "# Big-O notation"
   ]
  },
  {
   "cell_type": "markdown",
   "id": "02db541a-ed9e-4994-ac39-58ac3937873f",
   "metadata": {
    "id": "02db541a-ed9e-4994-ac39-58ac3937873f"
   },
   "source": [
    "The number of queries it takes to find the location of the search item in a dataset captures the *complexity* of the search algorithm. In general, the complexity of an algorithm is related to the number of operations it takes to execute it, for an input of size $N$.\n",
    "\n",
    "The **Big-O notation** is used to express the computational complexity of algorithms. It is the worst-case number of operations required by the algorithm. \n",
    "\n",
    "What is the worst case for linear search? How many queries would be required in this case?"
   ]
  },
  {
   "cell_type": "markdown",
   "id": "242b0dd1-9eff-4f49-a976-e5cff7f7d089",
   "metadata": {
    "id": "242b0dd1-9eff-4f49-a976-e5cff7f7d089"
   },
   "source": [
    "Linear search has a complexity of $O(N)$, meaning that in the worst case, $N$ queries are required for an input dataset of size $N$. This is why this search technique is called linear search! Do you know any other search algorithms and their complexities?"
   ]
  },
  {
   "cell_type": "markdown",
   "id": "70a9bb34-8ec6-4430-b368-41f401af690a",
   "metadata": {
    "id": "70a9bb34-8ec6-4430-b368-41f401af690a"
   },
   "source": [
    "# Grover search\n",
    "\n",
    "Now, we will try to find Choice 13 using Grover's search algorithm. The code below uses Qiskit's built-in Grover class to implement Grover's search algorithm. You do not need to make any additions to this code - just try running it and let your TA know what you get!"
   ]
  },
  {
   "cell_type": "code",
   "execution_count": 8,
   "id": "5a822bb4-b860-46eb-8c42-c6e3afbe348a",
   "metadata": {
    "id": "5a822bb4-b860-46eb-8c42-c6e3afbe348a"
   },
   "outputs": [
    {
     "name": "stdout",
     "output_type": "stream",
     "text": [
      "Success! Choice 13 has been found\n",
      "It was found at position 14\n"
     ]
    }
   ],
   "source": [
    "n_choices= 16 # The total number of choices available\n",
    "correct = 13 # The choice number we are searching for\n",
    "\n",
    "# Define grover problem function\n",
    "problem = create_grover_problem(n_choices, correct)\n",
    "\n",
    "# Solve grover\n",
    "result = solve_grover_problem(problem)\n",
    "\n",
    "print('Success! Choice', correct, \"has been found\" if result.oracle_evaluation else 'Failure!')\n",
    "print('It was found at position' , int(result.top_measurement,2)+1)"
   ]
  },
  {
   "cell_type": "markdown",
   "id": "8623f717-2a98-4b3e-9a3f-ad2090130fc9",
   "metadata": {
    "id": "8623f717-2a98-4b3e-9a3f-ad2090130fc9"
   },
   "source": [
    "# Number of queries for Grover search"
   ]
  },
  {
   "cell_type": "code",
   "execution_count": 9,
   "id": "aeb20ef7-06ea-4ee5-b915-aa63cb38c5fb",
   "metadata": {
    "id": "aeb20ef7-06ea-4ee5-b915-aa63cb38c5fb"
   },
   "outputs": [
    {
     "name": "stdout",
     "output_type": "stream",
     "text": [
      "The optimal number of queries is 3\n"
     ]
    }
   ],
   "source": [
    "# This code uses a built-in function in the Grover class to find the optimal number of queries in Grover's search.\n",
    "optimal_queries = Grover.optimal_num_iterations(num_solutions=1, num_qubits=4)\n",
    "print('The optimal number of queries is', optimal_queries)"
   ]
  },
  {
   "cell_type": "markdown",
   "id": "06d96ea9-4d68-4fd9-89c8-300179416555",
   "metadata": {
    "id": "06d96ea9-4d68-4fd9-89c8-300179416555"
   },
   "source": [
    "Is the optimal number of queries greater than or less than the worst-case number of queries for linear search?\n",
    "\n",
    "Why do you think there is an **optimal** number of queries for Grover search? What happens if the number of queries is not optimal?"
   ]
  },
  {
   "cell_type": "markdown",
   "id": "9fce6dc0-15e4-4636-a11c-9c550b69083a",
   "metadata": {
    "id": "9fce6dc0-15e4-4636-a11c-9c550b69083a"
   },
   "source": [
    "As we discussed in the lecture, Grover's algorithm works by amplifying the amplitude of the search item in the dataset and reducing the amplitude of all the other states. The optimal number of queries corresponds to the number of iterations of the algorithms that maximize the probability of measuring the search item. If the number of iterations is lower (or higher), the probability of measuring the search item will be lower too.\n",
    "\n",
    "This optimal number of iterations depends on the size of the dataset, as we will see in a few minutes."
   ]
  },
  {
   "cell_type": "markdown",
   "id": "1773967b-c781-4ea6-bbf5-52e695c74a73",
   "metadata": {
    "id": "1773967b-c781-4ea6-bbf5-52e695c74a73"
   },
   "source": [
    "# Big-O complexity of Grover's search algorithm\n",
    "\n",
    "We saw that the complexity of linear search can be expressed as $O(N)$. Grover's search has a complexity of $O(\\sqrt{N})$, meaning that the optimal number of queries scale as the square root of the size of the dataset. "
   ]
  },
  {
   "cell_type": "markdown",
   "id": "17fee8ca-7eb3-47f4-83f1-d1cc18de3f6c",
   "metadata": {
    "id": "17fee8ca-7eb3-47f4-83f1-d1cc18de3f6c",
    "tags": []
   },
   "source": [
    "# Seeing quantum advantage: Plotting number of queries\n",
    "\n",
    "Let's make a plot of the complexities for linear search and Grover search.\n",
    "\n",
    "For linear search, for a database of size $N$, the worst-case number of queries is given by $N$. This occurs in the case that the element you are looking for is the last element in the database.\n",
    "\n",
    "For Grover search, for a database of size $N$, the worst-case number of queries is approximately given by $\\frac{\\pi}{4}\\sqrt{N}$. We won't worry about how this number is calculated for now - let's focus on how this compares with linear search."
   ]
  },
  {
   "cell_type": "code",
   "execution_count": 29,
   "id": "bc048e3f-8134-4ff2-ba29-bca47cdf99f7",
   "metadata": {
    "id": "bc048e3f-8134-4ff2-ba29-bca47cdf99f7"
   },
   "outputs": [
    {
     "data": {
      "text/plain": [
       "<matplotlib.legend.Legend at 0x7fcc78c8cd30>"
      ]
     },
     "execution_count": 29,
     "metadata": {},
     "output_type": "execute_result"
    },
    {
     "data": {
      "image/png": "[encoded data removed]",
      "text/plain": [
       "<Figure size 432x288 with 1 Axes>"
      ]
     },
     "metadata": {
      "needs_background": "light"
     },
     "output_type": "display_data"
    }
   ],
   "source": [
    "# Challenge 3- Write code to plot the worst case number of queries for linear and Grover search using the matplotlib library (already imported)\n",
    "# For what size of database does Grover search offer 10 times fewer searches? What about 100 times?\n",
    "N = np.arange(1, 1000)\n",
    "plt.semilogy(N, N, label = \"Linear\")\n",
    "plt.semilogy(N, np.pi/4 * np.sqrt(N), label = \"Grover\")\n",
    "plt.xlabel(\"Size\")\n",
    "plt.ylabel(\"# Iterations\")\n",
    "plt.legend()"
   ]
  },
  {
   "cell_type": "markdown",
   "id": "4e0b7fe4-298b-4c4a-921e-5d8c5fdf2599",
   "metadata": {
    "id": "4e0b7fe4-298b-4c4a-921e-5d8c5fdf2599"
   },
   "source": [
    "# Exploring Grover's algorithm further.\n",
    "\n",
    "Let's see amplitude amplification in action! The code below uses Qiskit's Grover class to solve the same search problem as above. Don't worry about all the details of this code - to start off, there are three lines here that we encourage you to play around with.\n",
    "\n",
    "Run this code and let your TA know what you see!\n",
    "\n",
    "Grover's algorithm in Qiskit works best when the number of choices is a power of 2. Please make sure that n_choices in the code below is a power of 2!"
   ]
  },
  {
   "cell_type": "code",
   "execution_count": 39,
   "id": "8c12ebc9-2d6e-4f68-abaf-65ac9a161ccb",
   "metadata": {
    "id": "8c12ebc9-2d6e-4f68-abaf-65ac9a161ccb"
   },
   "outputs": [
    {
     "data": {
      "image/png": "[encoded data removed]",
      "text/plain": [
       "<Figure size 1800x720 with 1 Axes>"
      ]
     },
     "metadata": {},
     "output_type": "display_data"
    }
   ],
   "source": [
    "# This code takes the number of choices and the correct choice, and uses Grover's algorithm to find its location.\n",
    "\n",
    "n_choices= 128 # Total number of choices - please ensure that this number is a power of 2.\n",
    "correct = 13 # Choice number you are searching for\n",
    "\n",
    "#Creating a binary representation for the choices\n",
    "n = int(math.log(n_choices,2))\n",
    "ls = []\n",
    "for i in range(2**n, 2**(n+1)):\n",
    "    ls.append(str((bin(i)[3:])))\n",
    "\n",
    "# Defining the grover problem using the AmplificationProblem class\n",
    "good_state = ls[correct]\n",
    "oracle = Statevector.from_label(good_state)\n",
    "problem = AmplificationProblem(oracle, is_good_state=[good_state])\n",
    "\n",
    "# Solving the Grover problem using the Grover class\n",
    "backend = Aer.get_backend('qasm_simulator')\n",
    "grover = Grover(iterations=8, quantum_instance=backend) # Change number of iterations here\n",
    "result = grover.amplify(problem)\n",
    "\n",
    "# Extracting probabilities from the result of solving Grover\n",
    "counts = result.circuit_results[0]\n",
    "counts = counts.int_outcomes()\n",
    "\n",
    "#Plotting probabilities\n",
    "plot = plot_histogram(counts,figsize=(25, 10))\n",
    "ax = plot.gca()\n",
    "xticks = []\n",
    "ax.set_xlabel(\"Choice number\")\n",
    "display(plot)"
   ]
  },
  {
   "cell_type": "markdown",
   "id": "dZsJhzARyDXq",
   "metadata": {
    "id": "dZsJhzARyDXq"
   },
   "source": [
    "Now, try playing around with the code in the cell above by answering these challenges:\n",
    "### Challenge 4 - Increase the number of iterations in the indicated line (it is set to 0 currently). What do you notice? What is the optimal number of iterations in this case?\n",
    "\n",
    "### Challenge 5 - Try changing the number of choices in the indicated line to 32. What is the optimal number of queries in this case? What about 128?"
   ]
  }
 ],
 "metadata": {
  "colab": {
   "collapsed_sections": [],
   "name": "Grover's algo challenge.ipynb",
   "provenance": []
  },
  "kernelspec": {
   "display_name": "Qiskit v0.34.2 (ipykernel)",
   "language": "python",
   "name": "python3"
  },
  "language_info": {
   "codemirror_mode": {
    "name": "ipython",
    "version": 3
   },
   "file_extension": ".py",
   "mimetype": "text/x-python",
   "name": "python",
   "nbconvert_exporter": "python",
   "pygments_lexer": "ipython3",
   "version": "3.8.12"
  },
  "widgets": {
   "application/vnd.jupyter.widget-state+json": {
    "state": {},
    "version_major": 2,
    "version_minor": 0
   }
  }
 },
 "nbformat": 4,
 "nbformat_minor": 5
}
